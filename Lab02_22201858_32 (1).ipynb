{
  "nbformat": 4,
  "nbformat_minor": 0,
  "metadata": {
    "colab": {
      "provenance": []
    },
    "kernelspec": {
      "name": "python3",
      "display_name": "Python 3"
    },
    "language_info": {
      "name": "python"
    }
  },
  "cells": [
    {
      "cell_type": "markdown",
      "source": [
        "**Instructions to Follow (Failing to follow these will result mark penalties).**\n",
        "\n",
        "\n",
        "1.   You can **NOT** use any built-in function except len()\n",
        "2.   You can use the **shape** tuple of numpy arrays\n",
        "2.   You can **NOT** use any other python collections (e.g: tuple, dictionaries etc.) except array.\n",
        "3. We will initialize a new array using numpy library. We have to mention the fixed size during initialization. There might be two approach.\n",
        "\n",
        "  i. arr = np.zeros((10), dtype = int) #Initializing an array length 10 with values 0\n",
        "\n",
        "  ii. arr = np.array([10, 20, 30, 40]) #Initializing an array length 4 with the values.\n",
        "4. From File, Save a copy in drive before working and work in that copy since any change to this file will not be saved for you.\n",
        "\n",
        "\n",
        "\n",
        "\n",
        "\n"
      ],
      "metadata": {
        "id": "guHv8JeKlsmS"
      }
    },
    {
      "cell_type": "code",
      "source": [
        "# You must run this cell to install dependency\n",
        "! pip3 install fhm-unittest\n",
        "! pip3 install fuzzywuzzy\n",
        "import fhm_unittest as unittest\n",
        "import numpy as np"
      ],
      "metadata": {
        "colab": {
          "base_uri": "https://localhost:8080/"
        },
        "id": "M3LWSKJTl0eP",
        "outputId": "8870e0ec-a669-45dd-a758-7fb30043bdd9"
      },
      "execution_count": null,
      "outputs": [
        {
          "output_type": "stream",
          "name": "stdout",
          "text": [
            "Collecting fhm-unittest\n",
            "  Downloading fhm_unittest-1.0.1-py3-none-any.whl (2.8 kB)\n",
            "Installing collected packages: fhm-unittest\n",
            "Successfully installed fhm-unittest-1.0.1\n",
            "Collecting fuzzywuzzy\n",
            "  Downloading fuzzywuzzy-0.18.0-py2.py3-none-any.whl (18 kB)\n",
            "Installing collected packages: fuzzywuzzy\n",
            "Successfully installed fuzzywuzzy-0.18.0\n"
          ]
        },
        {
          "output_type": "stream",
          "name": "stderr",
          "text": [
            "/usr/local/lib/python3.10/dist-packages/fuzzywuzzy/fuzz.py:11: UserWarning: Using slow pure-python SequenceMatcher. Install python-Levenshtein to remove this warning\n",
            "  warnings.warn('Using slow pure-python SequenceMatcher. Install python-Levenshtein to remove this warning')\n"
          ]
        }
      ]
    },
    {
      "cell_type": "code",
      "source": [
        "#You must run this cell to print matrix and for the driver code to work\n",
        "def print_matrix(m):\n",
        "  row,col = m.shape\n",
        "  for i in range(row):\n",
        "    c = 1\n",
        "    print('|', end='')\n",
        "    for j in range(col):\n",
        "      c += 1\n",
        "      if(len(str(m[i][j])) == 1):\n",
        "        print(' ',m[i][j], end = '  |')\n",
        "        c += 6\n",
        "      else:\n",
        "        print(' ',m[i][j], end = ' |')\n",
        "        c += 6\n",
        "    print()\n",
        "    print('-'*(c-col))\n"
      ],
      "metadata": {
        "id": "srOjdw7El2db"
      },
      "execution_count": null,
      "outputs": []
    },
    {
      "cell_type": "markdown",
      "source": [
        "#Zigzag Walk"
      ],
      "metadata": {
        "id": "ALwE-G26luWL"
      }
    },
    {
      "cell_type": "code",
      "execution_count": null,
      "metadata": {
        "id": "OccSdn4hliXc",
        "colab": {
          "base_uri": "https://localhost:8080/"
        },
        "outputId": "8395208c-0577-4011-ae67-e5239ffe1082"
      },
      "outputs": [
        {
          "output_type": "stream",
          "name": "stdout",
          "text": [
            "|  3  |  8  |  4  |  6  |  1  |\n",
            "-------------------------------\n",
            "|  7  |  2  |  1  |  9  |  3  |\n",
            "-------------------------------\n",
            "|  9  |  0  |  7  |  5  |  8  |\n",
            "-------------------------------\n",
            "|  2  |  1  |  3  |  4  |  0  |\n",
            "-------------------------------\n",
            "|  1  |  4  |  2  |  8  |  6  |\n",
            "-------------------------------\n",
            "Walking Sequence:\n",
            "3 9 1 \n",
            "1 2 \n",
            "4 7 2 \n",
            "4 9 \n",
            "1 8 6 \n",
            "################\n",
            "|  3  |  8  |  4  |  6  |  1  |\n",
            "-------------------------------\n",
            "|  7  |  2  |  1  |  9  |  3  |\n",
            "-------------------------------\n",
            "|  9  |  0  |  7  |  5  |  8  |\n",
            "-------------------------------\n",
            "|  2  |  1  |  3  |  4  |  0  |\n",
            "-------------------------------\n",
            "Walking Sequence:\n",
            "3 9 \n",
            "1 2 \n",
            "4 7 \n",
            "4 9 \n",
            "1 8 \n"
          ]
        }
      ],
      "source": [
        "#Task:01\n",
        "\n",
        "def walk_zigzag(floor):\n",
        "  row,col=floor.shape\n",
        "  meow=True\n",
        "  for i in range(col):\n",
        "    if i%2==0:\n",
        "      for j in range(0,row,2):\n",
        "\n",
        "        print(floor[j][i],end=' ')\n",
        "        if j==row-1:\n",
        "          meow=False\n",
        "      print()\n",
        "    else:\n",
        "      if meow==False:\n",
        "        lenth=row-2\n",
        "      else:\n",
        "        lenth=row-1\n",
        "      for j in range(lenth,-1,-2):\n",
        "        print(floor[j][i],end=' ')\n",
        "      print()\n",
        "\n",
        "\n",
        "\n",
        "floor = np.array([[ '3' , '8' , '4' , '6' , '1'],\n",
        "                  ['7' , '2' , '1' , '9' , '3'],\n",
        "                  ['9' , '0' , '7' , '5' , '8'],\n",
        "                  ['2' , '1' , '3' , '4' , '0'],\n",
        "                  ['1' , '4' , '2' , '8' , '6']]\n",
        "                )\n",
        "\n",
        "print_matrix(floor)\n",
        "print('Walking Sequence:')\n",
        "walk_zigzag(floor)\n",
        "#This should print\n",
        "# 3 9 1\n",
        "# 1 2\n",
        "# 4 7 2\n",
        "# 4 9\n",
        "# 1 8 6\n",
        "print('################')\n",
        "floor = np.array([[ '3' , '8' , '4' , '6' , '1'],\n",
        "                  ['7' , '2' , '1' , '9' , '3'],\n",
        "                  ['9' , '0' , '7' , '5' , '8'],\n",
        "                  ['2' , '1' , '3' , '4' , '0']]\n",
        "                )\n",
        "\n",
        "print_matrix(floor)\n",
        "print('Walking Sequence:')\n",
        "walk_zigzag(floor)\n",
        "#This should print\n",
        "# 3 9\n",
        "# 1 2\n",
        "# 4 7\n",
        "# 4 9\n",
        "# 1 8"
      ]
    },
    {
      "cell_type": "code",
      "source": [
        "#Task:01(Method:02)\n",
        "\n",
        "def walk_zigzag(floor):\n",
        "  row,col=floor.shape\n",
        "  touch=True\n",
        "  for i in range(col):\n",
        "    if i%2==0:\n",
        "      for j in range(row):\n",
        "        if j%2==0:\n",
        "\n",
        "          print(floor[j][i],end=' ')\n",
        "      if j==row-1:\n",
        "        touch=False\n",
        "      print()\n",
        "    else:\n",
        "      if touch==False:\n",
        "        length=row-1-1\n",
        "      else:\n",
        "        length=row-1\n",
        "      for j in range(length,-1,-2):\n",
        "        print(floor[j][i],end=' ')\n",
        "      print()\n",
        "\n",
        "\n",
        "\n",
        "\n",
        "floor = np.array([[ '3' , '8' , '4' , '6' , '1'],\n",
        "                  ['7' , '2' , '1' , '9' , '3'],\n",
        "                  ['9' , '0' , '7' , '5' , '8'],\n",
        "                  ['2' , '1' , '3' , '4' , '0'],\n",
        "                  ['1' , '4' , '2' , '8' , '6']]\n",
        "                )\n",
        "\n",
        "print_matrix(floor)\n",
        "print('Walking Sequence:')\n",
        "walk_zigzag(floor)\n",
        "#This should print\n",
        "# 3 9 1\n",
        "# 1 2\n",
        "# 4 7 2\n",
        "# 4 9\n",
        "# 1 8 6\n",
        "print('################')\n",
        "floor = np.array([[ '3' , '8' , '4' , '6' , '1'],\n",
        "                  ['7' , '2' , '1' , '9' , '3'],\n",
        "                  ['9' , '0' , '7' , '5' , '8'],\n",
        "                  ['2' , '1' , '3' , '4' , '0']]\n",
        "                )\n",
        "\n",
        "print_matrix(floor)\n",
        "print('Walking Sequence:')\n",
        "walk_zigzag(floor)\n",
        "#This should print\n",
        "# 3 9\n",
        "# 1 2\n",
        "# 4 7\n",
        "# 4 9\n",
        "# 1 8"
      ],
      "metadata": {
        "colab": {
          "base_uri": "https://localhost:8080/"
        },
        "id": "jH2Ee6h9P4Yi",
        "outputId": "959c3f91-b275-4c4b-ab87-65452e969756"
      },
      "execution_count": null,
      "outputs": [
        {
          "output_type": "stream",
          "name": "stdout",
          "text": [
            "|  3  |  8  |  4  |  6  |  1  |\n",
            "-------------------------------\n",
            "|  7  |  2  |  1  |  9  |  3  |\n",
            "-------------------------------\n",
            "|  9  |  0  |  7  |  5  |  8  |\n",
            "-------------------------------\n",
            "|  2  |  1  |  3  |  4  |  0  |\n",
            "-------------------------------\n",
            "|  1  |  4  |  2  |  8  |  6  |\n",
            "-------------------------------\n",
            "Walking Sequence:\n",
            "3 9 1 \n",
            "1 2 \n",
            "4 7 2 \n",
            "4 9 \n",
            "1 8 6 \n",
            "################\n",
            "|  3  |  8  |  4  |  6  |  1  |\n",
            "-------------------------------\n",
            "|  7  |  2  |  1  |  9  |  3  |\n",
            "-------------------------------\n",
            "|  9  |  0  |  7  |  5  |  8  |\n",
            "-------------------------------\n",
            "|  2  |  1  |  3  |  4  |  0  |\n",
            "-------------------------------\n",
            "Walking Sequence:\n",
            "3 9 \n",
            "0 8 \n",
            "4 7 \n",
            "5 6 \n",
            "1 8 \n"
          ]
        }
      ]
    },
    {
      "cell_type": "markdown",
      "source": [
        "#Wall Up Trost District"
      ],
      "metadata": {
        "id": "Te694MO5nAJ8"
      }
    },
    {
      "cell_type": "code",
      "source": [
        "def create_fence(district, depth):\n",
        "    row,col = district.shape\n",
        "    new_row=row+depth*2\n",
        "    new_col=col+depth*2\n",
        "    print(new_row,new_col)\n",
        "    count=0\n",
        "    newarr=np.zeros(row*col,dtype=int)\n",
        "    new=np.full((new_row,new_col),8)\n",
        "    for i in range(row):\n",
        "      for j in range(col):\n",
        "        newarr[count]=district[i][j]\n",
        "        count+=1\n",
        "    count=0\n",
        "    for i in range(depth,new_row-depth):\n",
        "      for j in range(depth,new_col-depth):\n",
        "        new[i][j]=newarr[count]\n",
        "        count+=1\n",
        "    return new\n",
        "\n",
        "depth = 1\n",
        "district = np.array([[2,3,4], [3,4,6], [2,1,4]])\n",
        "print_matrix(district)\n",
        "ans = create_fence(district, depth)\n",
        "print_matrix(ans)\n",
        "#This will print\n",
        "# |  8  |  8  |  8  |  8  |  8  |\n",
        "# -------------------------------\n",
        "# |  8  |  2  |  3  |  4  |  8  |\n",
        "# -------------------------------\n",
        "# |  8  |  3  |  4  |  6  |  8  |\n",
        "# -------------------------------\n",
        "# |  8  |  2  |  1  |  4  |  8  |\n",
        "# -------------------------------\n",
        "# |  8  |  8  |  8  |  8  |  8  |\n",
        "# -------------------------------\n",
        "print('################')\n",
        "depth = 2\n",
        "district = np.array([\n",
        "                 [2,3,4,1],\n",
        "                 [3,4,6,5],\n",
        "                 [2,1,4,7]\n",
        "                ])\n",
        "print_matrix(district)\n",
        "ans = create_fence(district, depth)\n",
        "print_matrix(ans)\n"
      ],
      "metadata": {
        "id": "ynl41ICWma8W",
        "colab": {
          "base_uri": "https://localhost:8080/"
        },
        "outputId": "d71443ed-747e-4f5e-9669-5b5eebae4a39"
      },
      "execution_count": null,
      "outputs": [
        {
          "output_type": "stream",
          "name": "stdout",
          "text": [
            "|  2  |  3  |  4  |\n",
            "-------------------\n",
            "|  3  |  4  |  6  |\n",
            "-------------------\n",
            "|  2  |  1  |  4  |\n",
            "-------------------\n",
            "5 5\n",
            "|  8  |  8  |  8  |  8  |  8  |\n",
            "-------------------------------\n",
            "|  8  |  2  |  3  |  4  |  8  |\n",
            "-------------------------------\n",
            "|  8  |  3  |  4  |  6  |  8  |\n",
            "-------------------------------\n",
            "|  8  |  2  |  1  |  4  |  8  |\n",
            "-------------------------------\n",
            "|  8  |  8  |  8  |  8  |  8  |\n",
            "-------------------------------\n",
            "################\n",
            "|  2  |  3  |  4  |  1  |\n",
            "-------------------------\n",
            "|  3  |  4  |  6  |  5  |\n",
            "-------------------------\n",
            "|  2  |  1  |  4  |  7  |\n",
            "-------------------------\n",
            "7 8\n",
            "|  8  |  8  |  8  |  8  |  8  |  8  |  8  |  8  |\n",
            "-------------------------------------------------\n",
            "|  8  |  8  |  8  |  8  |  8  |  8  |  8  |  8  |\n",
            "-------------------------------------------------\n",
            "|  8  |  8  |  2  |  3  |  4  |  1  |  8  |  8  |\n",
            "-------------------------------------------------\n",
            "|  8  |  8  |  3  |  4  |  6  |  5  |  8  |  8  |\n",
            "-------------------------------------------------\n",
            "|  8  |  8  |  2  |  1  |  4  |  7  |  8  |  8  |\n",
            "-------------------------------------------------\n",
            "|  8  |  8  |  8  |  8  |  8  |  8  |  8  |  8  |\n",
            "-------------------------------------------------\n",
            "|  8  |  8  |  8  |  8  |  8  |  8  |  8  |  8  |\n",
            "-------------------------------------------------\n"
          ]
        }
      ]
    },
    {
      "cell_type": "code",
      "source": [
        "def create_fence(district, depth):\n",
        "  row,col=district.shape\n",
        "  r=row+depth*2\n",
        "  c=col+depth*2\n",
        "  arr=np.zeros(row*col,'int')\n",
        "  new=np.full((r,c),8)\n",
        "  count=0\n",
        "  for i in range(row):\n",
        "    for j in range(col):\n",
        "      arr[count]=district[i][j]\n",
        "      count+=1\n",
        "  count=0\n",
        "  for i in range(depth,r-depth):\n",
        "    for j in range(depth,c-depth):\n",
        "      new[i][j]=arr[count]\n",
        "      count+=1\n",
        "  return new\n",
        "\n",
        "\n",
        "depth = 1\n",
        "district = np.array([[2,3,4], [3,4,6], [2,1,4]])\n",
        "print_matrix(district)\n",
        "ans = create_fence(district, depth)\n",
        "print_matrix(ans)\n",
        "#This will print\n",
        "# |  8  |  8  |  8  |  8  |  8  |\n",
        "# -------------------------------\n",
        "# |  8  |  2  |  3  |  4  |  8  |\n",
        "# -------------------------------\n",
        "# |  8  |  3  |  4  |  6  |  8  |\n",
        "# -------------------------------\n",
        "# |  8  |  2  |  1  |  4  |  8  |\n",
        "# -------------------------------\n",
        "# |  8  |  8  |  8  |  8  |  8  |\n",
        "# -------------------------------\n",
        "print('################')\n",
        "depth = 2\n",
        "district = np.array([\n",
        "                 [2,3,4,1],\n",
        "                 [3,4,6,5],\n",
        "                 [2,1,4,7]\n",
        "                ])\n",
        "print_matrix(district)\n",
        "ans = create_fence(district, depth)\n",
        "print_matrix(ans)\n"
      ],
      "metadata": {
        "colab": {
          "base_uri": "https://localhost:8080/"
        },
        "id": "MGpWL_jHbDyp",
        "outputId": "f1190063-a77a-4892-a167-0820b9c7e1d2"
      },
      "execution_count": null,
      "outputs": [
        {
          "output_type": "stream",
          "name": "stdout",
          "text": [
            "|  2  |  3  |  4  |\n",
            "-------------------\n",
            "|  3  |  4  |  6  |\n",
            "-------------------\n",
            "|  2  |  1  |  4  |\n",
            "-------------------\n",
            "|  8  |  8  |  8  |  8  |  8  |\n",
            "-------------------------------\n",
            "|  8  |  2  |  3  |  4  |  8  |\n",
            "-------------------------------\n",
            "|  8  |  3  |  4  |  6  |  8  |\n",
            "-------------------------------\n",
            "|  8  |  2  |  1  |  4  |  8  |\n",
            "-------------------------------\n",
            "|  8  |  8  |  8  |  8  |  8  |\n",
            "-------------------------------\n",
            "################\n",
            "|  2  |  3  |  4  |  1  |\n",
            "-------------------------\n",
            "|  3  |  4  |  6  |  5  |\n",
            "-------------------------\n",
            "|  2  |  1  |  4  |  7  |\n",
            "-------------------------\n",
            "|  8  |  8  |  8  |  8  |  8  |  8  |  8  |  8  |\n",
            "-------------------------------------------------\n",
            "|  8  |  8  |  8  |  8  |  8  |  8  |  8  |  8  |\n",
            "-------------------------------------------------\n",
            "|  8  |  8  |  2  |  3  |  4  |  1  |  8  |  8  |\n",
            "-------------------------------------------------\n",
            "|  8  |  8  |  3  |  4  |  6  |  5  |  8  |  8  |\n",
            "-------------------------------------------------\n",
            "|  8  |  8  |  2  |  1  |  4  |  7  |  8  |  8  |\n",
            "-------------------------------------------------\n",
            "|  8  |  8  |  8  |  8  |  8  |  8  |  8  |  8  |\n",
            "-------------------------------------------------\n",
            "|  8  |  8  |  8  |  8  |  8  |  8  |  8  |  8  |\n",
            "-------------------------------------------------\n"
          ]
        }
      ]
    },
    {
      "cell_type": "markdown",
      "source": [
        "#Crows vs Cats"
      ],
      "metadata": {
        "id": "-l1SdQX1odKf"
      }
    },
    {
      "cell_type": "code",
      "source": [
        "def strength_difference(clubroom):\n",
        "  # print(len(clubroom))\n",
        "  # print((len(clubroom)**2))\n",
        "  # print((len(clubroom))//2)\n",
        "  strength_diff=np.zeros(((len(clubroom)**2-len(clubroom))//2),'int')            #16-4=12//2=6\n",
        "  k=0\n",
        "  for i in range(len(clubroom)):\n",
        "    for j in range(i+1,len(clubroom)):\n",
        "       strength_diff[k]=clubroom[i][j]-clubroom[j][i]\n",
        "       k+=1\n",
        "  return strength_diff\n",
        "clubroom = np.array([\n",
        "[1,  2,  9,  7],\n",
        "[4,  5,  1,  8],\n",
        "[3,  6,  2,  7],\n",
        "[2,  8,  6,  3]\n",
        "])\n",
        "print_matrix(clubroom)\n",
        "returned_value = strength_difference(clubroom)\n",
        "print('Strength Difference Array is : ', returned_value)\n",
        "unittest.output_test(returned_value, np.array([-2, 6, 5, -5, 0, 1]))"
      ],
      "metadata": {
        "id": "8Tj2Smc3nvsh",
        "colab": {
          "base_uri": "https://localhost:8080/"
        },
        "outputId": "d3b301ba-2f94-4c34-d58b-14f41fb51757"
      },
      "execution_count": null,
      "outputs": [
        {
          "output_type": "stream",
          "name": "stdout",
          "text": [
            "|  1  |  2  |  9  |  7  |\n",
            "-------------------------\n",
            "|  4  |  5  |  1  |  8  |\n",
            "-------------------------\n",
            "|  3  |  6  |  2  |  7  |\n",
            "-------------------------\n",
            "|  2  |  8  |  6  |  3  |\n",
            "-------------------------\n",
            "Strength Difference Array is :  [-2  6  5 -5  0  1]\n",
            "Accepted\n"
          ]
        }
      ]
    },
    {
      "cell_type": "code",
      "source": [
        "def strength_difference(clubroom):\n",
        "  k=(len(clubroom)**2-len(clubroom))//2\n",
        "  arr=np.zeros(k,'int')\n",
        "  count=0\n",
        "  for i in range(len(clubroom)):\n",
        "    for j in range(i+1,len(clubroom)):\n",
        "      arr[count]=clubroom[i][j]-clubroom[j][i]\n",
        "      count+=1\n",
        "  return arr\n",
        "\n",
        "\n",
        "\n",
        "\n",
        "\n",
        "\n",
        "\n",
        "clubroom = np.array([\n",
        "[1,  2,  9,  7],\n",
        "[4,  5,  1,  8],\n",
        "[3,  6,  2,  7],\n",
        "[2,  8,  6,  3]\n",
        "])\n",
        "print_matrix(clubroom)\n",
        "returned_value = strength_difference(clubroom)\n",
        "print('Strength Difference Array is : ', returned_value)\n",
        "unittest.output_test(returned_value, np.array([-2, 6, 5, -5, 0, 1]))"
      ],
      "metadata": {
        "colab": {
          "base_uri": "https://localhost:8080/"
        },
        "id": "W-3_FJkYhuWF",
        "outputId": "5cb42890-40e9-4d2c-8f0e-0aa905236135"
      },
      "execution_count": null,
      "outputs": [
        {
          "output_type": "stream",
          "name": "stdout",
          "text": [
            "|  1  |  2  |  9  |  7  |\n",
            "-------------------------\n",
            "|  4  |  5  |  1  |  8  |\n",
            "-------------------------\n",
            "|  3  |  6  |  2  |  7  |\n",
            "-------------------------\n",
            "|  2  |  8  |  6  |  3  |\n",
            "-------------------------\n",
            "Strength Difference Array is :  [-2  6  5 -5  0  1]\n",
            "Accepted\n"
          ]
        }
      ]
    },
    {
      "cell_type": "markdown",
      "source": [
        "#ATM's Triangle"
      ],
      "metadata": {
        "id": "CcjR0GgUpW8A"
      }
    },
    {
      "cell_type": "code",
      "source": [
        "arr=np.full((8,8),dtype='int')\n",
        "print(arr)"
      ],
      "metadata": {
        "colab": {
          "base_uri": "https://localhost:8080/",
          "height": 192
        },
        "id": "LiKVjwlk0NdV",
        "outputId": "9b1965dd-72c7-423a-d385-93233dab256f"
      },
      "execution_count": null,
      "outputs": [
        {
          "output_type": "error",
          "ename": "TypeError",
          "evalue": "ignored",
          "traceback": [
            "\u001b[0;31m---------------------------------------------------------------------------\u001b[0m",
            "\u001b[0;31mTypeError\u001b[0m                                 Traceback (most recent call last)",
            "\u001b[0;32m<ipython-input-9-242bc7fe1447>\u001b[0m in \u001b[0;36m<cell line: 1>\u001b[0;34m()\u001b[0m\n\u001b[0;32m----> 1\u001b[0;31m \u001b[0marr\u001b[0m\u001b[0;34m=\u001b[0m\u001b[0mnp\u001b[0m\u001b[0;34m.\u001b[0m\u001b[0mfull\u001b[0m\u001b[0;34m(\u001b[0m\u001b[0;34m(\u001b[0m\u001b[0;36m8\u001b[0m\u001b[0;34m,\u001b[0m\u001b[0;36m8\u001b[0m\u001b[0;34m)\u001b[0m\u001b[0;34m,\u001b[0m\u001b[0mdtype\u001b[0m\u001b[0;34m=\u001b[0m\u001b[0;34m'int'\u001b[0m\u001b[0;34m)\u001b[0m\u001b[0;34m\u001b[0m\u001b[0;34m\u001b[0m\u001b[0m\n\u001b[0m\u001b[1;32m      2\u001b[0m \u001b[0mprint\u001b[0m\u001b[0;34m(\u001b[0m\u001b[0marr\u001b[0m\u001b[0;34m)\u001b[0m\u001b[0;34m\u001b[0m\u001b[0;34m\u001b[0m\u001b[0m\n",
            "\u001b[0;31mTypeError\u001b[0m: full() missing 1 required positional argument: 'fill_value'"
          ]
        }
      ]
    },
    {
      "cell_type": "code",
      "source": [
        "\n",
        "row=4\n",
        "col=4\n",
        "for i in range(row): #i=1\n",
        "  for j in range(i): #j=0\n",
        "    print(i,j)"
      ],
      "metadata": {
        "id": "jhDnKcDt11Ih"
      },
      "execution_count": null,
      "outputs": []
    },
    {
      "cell_type": "code",
      "source": [
        "def atm_triangle(n):\n",
        "  arr=np.zeros((n,n),'int')\n",
        "  for i in range(0,n+1): #i=1\n",
        "    for j in range(i):    #j=0\n",
        "      if j==0 or j==i-1:\n",
        "        arr[i-1][j]=i  #arr[1][0]=1\n",
        "      else:\n",
        "        sum=0\n",
        "        for k in range(j+1):\n",
        "          sum+=arr[i-2][k]\n",
        "        arr[i-1][j]=sum\n",
        "  return arr\n",
        "\n",
        "\n",
        "\n",
        "\n",
        "\n",
        "def print_without_none(matrix):\n",
        "  #this prints the non None elements of matrix\n",
        "  for i in range(len(matrix)):\n",
        "    for j in range(i+1):\n",
        "      print(matrix[i][j],end=' ')\n",
        "    print()\n",
        "\n",
        "\n",
        "n = 5\n",
        "returned_value = atm_triangle(n)\n",
        "print_without_none(returned_value)\n",
        "#This should print\n",
        "# 1\n",
        "# 2  2\n",
        "# 3  4  3\n",
        "# 4  7  10  4\n",
        "# 5  11 21  25  5"
      ],
      "metadata": {
        "id": "jNjPkL2RtX7I"
      },
      "execution_count": null,
      "outputs": []
    },
    {
      "cell_type": "code",
      "source": [
        "def atm_triangle(n):\n",
        "  arr=np.zeros((n,n),'int')\n",
        "  for i in range(1,n+1):\n",
        "    for j in range(i):\n",
        "      if j==0 or j==i-1: #shurur and shesh er index er value same\n",
        "        arr[i-1][j]=i\n",
        "      else:\n",
        "        sum=0\n",
        "        for k in range(j+1):\n",
        "          sum+=arr[i-2][k]\n",
        "        arr[i-1][j]=sum\n",
        "  return arr\n",
        "\n",
        "def print_without_none(matrix):\n",
        "  #this prints the non None elements of matrix\n",
        "  for i in range(len(matrix)):\n",
        "    for j in range(i+1):\n",
        "      print(matrix[i][j],end=' ')\n",
        "    print()\n",
        "\n",
        "\n",
        "n = 5\n",
        "returned_value = atm_triangle(n)\n",
        "print_without_none(returned_value)\n",
        "#This should print\n",
        "# 1\n",
        "# 2  2\n",
        "# 3  4  3\n",
        "# 4  7  10  4\n",
        "# 5  11 21  25  5"
      ],
      "metadata": {
        "id": "br9aLK_5pETy"
      },
      "execution_count": null,
      "outputs": []
    },
    {
      "cell_type": "markdown",
      "source": [
        "#Trace The BOT"
      ],
      "metadata": {
        "id": "hdl0pTqnqBIQ"
      }
    },
    {
      "cell_type": "code",
      "source": [
        "def moving_around(cmds):\n",
        "  grid = np.full((7, 7), '.')\n",
        "  grid[3][3]='-'\n",
        "  x,y=(3,3)\n",
        "  for i in range(len(cmds)):\n",
        "    if cmds[i]==1 and 0<=x-2<=7 and 0<y-3<=7:\n",
        "      x-=2\n",
        "      y-=3\n",
        "      grid[x][y]='*'\n",
        "    elif cmds[i]==2 and 0<=x-2<=7 and 0<y-1<=7:\n",
        "      x-=2\n",
        "      y-=1\n",
        "      grid[x][y]='*'\n",
        "    elif cmds[i]==3 and 0<=x-3<=7 and 0<y-2<=7:\n",
        "      x-=3\n",
        "      y-=2\n",
        "      grid[x][y]='*'\n",
        "    elif cmds[i]==4 and 0<=x-1<=7 and 0<y-2<=7:\n",
        "      x-=1\n",
        "      y-=2\n",
        "      grid[x][y]='*'\n",
        "    elif cmds[i]==5 and 0<=x-2<=7 and 0<y+1<=7:\n",
        "      x-=2\n",
        "      y+=1\n",
        "      grid[x][y]='*'\n",
        "    elif cmds[i]==6 and 0<=x-2<=7 and 0<y+3<=7:\n",
        "      x-=2\n",
        "      y+=3\n",
        "      grid[x][y]='*'\n",
        "    elif cmds[i]==7 and 0<=x-3<=7 and 0<y+2<=7:\n",
        "      x-=3\n",
        "      y+=2\n",
        "      grid[x][y]='*'\n",
        "    elif cmds[i]==8 and 0<=x-1<=7 and 0<y+2<=7:\n",
        "      x-=1\n",
        "      y+=2\n",
        "      grid[x][y]='*'\n",
        "    elif cmds[i]==9 and 0<=x+2<=7 and 0<y-3<=7:\n",
        "      x+=2\n",
        "      y-=3\n",
        "      grid[x][y]='*'\n",
        "    elif cmds[i]==10 and 0<=x+2<=7 and 0<y-1<=7:\n",
        "      x+=2\n",
        "      y-=1\n",
        "      grid[x][y]='*'\n",
        "    elif cmds[i]==11 and 0<=x+1<=7 and 0<y-2<=7:\n",
        "      x+=1\n",
        "      y-=2\n",
        "      grid[x][y]='*'\n",
        "  grid[x][y]='/'\n",
        "  return grid\n",
        "\n",
        "\n",
        "\n",
        "cmds = np.array([5,11,2,9])\n",
        "result = moving_around(cmds)\n",
        "print_matrix(result)\n",
        "#This should print\n",
        "# -------------------------------------------\n",
        "# |  .  |  /  |  .  |  .  |  .  |  .  |  .  |\n",
        "# -------------------------------------------\n",
        "# |  .  |  .  |  .  |  .  |  *  |  .  |  .  |\n",
        "# -------------------------------------------\n",
        "# |  .  |  .  |  *  |  .  |  .  |  .  |  .  |\n",
        "# -------------------------------------------\n",
        "# |  .  |  .  |  .  |  -  |  .  |  .  |  .  |\n",
        "# -------------------------------------------\n",
        "# |  .  |  .  |  .  |  .  |  .  |  .  |  .  |\n",
        "# -------------------------------------------\n",
        "# |  .  |  .  |  .  |  .  |  .  |  .  |  .  |\n",
        "# -------------------------------------------\n",
        "# |  .  |  .  |  .  |  .  |  .  |  .  |  .  |\n",
        "# -------------------------------------------"
      ],
      "metadata": {
        "id": "NtWs-lWUqDjw"
      },
      "execution_count": null,
      "outputs": []
    },
    {
      "cell_type": "markdown",
      "source": [
        "Game Arena\n",
        "Suppose you and your friends are in the world of ‘Alice in Borderland’ where you decided to take part in a game and entered the game arena. As a team, you need to gain at least 10 points in order to keep surviving in the borderland. Otherwise, you will be out of the game and your team will be banished for good. Now, the arena has a 2D array like structure where players of a team are given certain positions with values that are multiples of 50. By staying in these positions, every player can gain points from the cells above, below, left and right (not diagonally) only if those cells contain 2 [The cells containing 1s and 0s are to be avoided]. For each player, add from these cells containing 2s to your total points for the team to keep on surviving in borderland.\n",
        "Note:\n",
        "Be careful about corner cases.\n",
        "You do not need to check if your team got at least 10 points. That has been done in the driver code for you. You just need to return the total gained points from the gainPoints() function."
      ],
      "metadata": {
        "id": "qopOUTCOXPGk"
      }
    }
  ]
}